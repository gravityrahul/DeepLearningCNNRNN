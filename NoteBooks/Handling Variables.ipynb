{
 "cells": [
  {
   "cell_type": "code",
   "execution_count": 1,
   "metadata": {},
   "outputs": [
    {
     "name": "stderr",
     "output_type": "stream",
     "text": [
      "/Users/z001f64/python3env/lib/python3.6/site-packages/h5py/__init__.py:36: FutureWarning: Conversion of the second argument of issubdtype from `float` to `np.floating` is deprecated. In future, it will be treated as `np.float64 == np.dtype(float).type`.\n",
      "  from ._conv import register_converters as _register_converters\n"
     ]
    }
   ],
   "source": [
    "import os\n",
    "os.environ['TF_CPP_MIN_LOG_LEVEL']='2'\n",
    "\n",
    "import numpy as np\n",
    "import tensorflow as tf"
   ]
  },
  {
   "cell_type": "code",
   "execution_count": 2,
   "metadata": {},
   "outputs": [],
   "source": [
    "# Example 1: creating variables\n",
    "s = tf.Variable(2, name='scalar') \n",
    "m = tf.Variable([[0, 1], [2, 3]], name='matrix') \n",
    "W = tf.Variable(tf.zeros([784,10]), name='big_matrix')\n",
    "V = tf.Variable(tf.truncated_normal([784, 10]), name='normal_matrix')"
   ]
  },
  {
   "cell_type": "code",
   "execution_count": 3,
   "metadata": {},
   "outputs": [],
   "source": [
    "# Example 2: creating variables\n",
    "s = tf.get_variable('scalar', initializer=tf.constant(2)) \n",
    "m = tf.get_variable('matrix', initializer=tf.constant([[0, 1], [2, 3]]))\n",
    "W = tf.get_variable('big_matrix', shape=(784, 10), initializer=tf.zeros_initializer())\n",
    "V = tf.get_variable('normal_matrix', shape=(784, 10), initializer=tf.truncated_normal_initializer())\n"
   ]
  },
  {
   "cell_type": "code",
   "execution_count": 4,
   "metadata": {},
   "outputs": [
    {
     "name": "stdout",
     "output_type": "stream",
     "text": [
      "[[ 0.59094185 -1.8515884   0.27873045 ... -0.10104309 -1.0778774\n",
      "  -0.8128195 ]\n",
      " [-0.01561789 -0.50433254 -0.6333373  ... -1.1297618  -1.4341241\n",
      "   1.2647414 ]\n",
      " [ 0.8992296  -0.57327884 -0.61101544 ... -1.917846   -0.35558736\n",
      "   0.93595093]\n",
      " ...\n",
      " [-0.22952624 -0.23033707 -0.28533208 ...  0.21758935 -0.27869093\n",
      "  -0.3530685 ]\n",
      " [-1.3314339   1.2315912   0.06535144 ... -0.860863    0.43968758\n",
      "  -0.6354343 ]\n",
      " [-0.8299099  -0.25774547  0.84014493 ...  0.75122684 -0.01051306\n",
      "  -1.3675821 ]]\n"
     ]
    }
   ],
   "source": [
    "with tf.Session() as sess:\n",
    "    sess.run(tf.global_variables_initializer())\n",
    "    print(V.eval())"
   ]
  },
  {
   "cell_type": "code",
   "execution_count": 6,
   "metadata": {},
   "outputs": [
    {
     "name": "stdout",
     "output_type": "stream",
     "text": [
      "10\n",
      "100\n"
     ]
    }
   ],
   "source": [
    "# Example 2: assigning values to variables\n",
    "W = tf.Variable(10)\n",
    "W.assign(100)\n",
    "with tf.Session() as sess:\n",
    "    sess.run(W.initializer)\n",
    "    print(sess.run(W))                    \t# >> 10\n",
    "\n",
    "W = tf.Variable(10)\n",
    "assign_op = W.assign(100)\n",
    "with tf.Session() as sess:\n",
    "    sess.run(assign_op)\n",
    "    print(W.eval())                     \t# >> 100"
   ]
  },
  {
   "cell_type": "code",
   "execution_count": 7,
   "metadata": {},
   "outputs": [
    {
     "name": "stdout",
     "output_type": "stream",
     "text": [
      "20\n",
      "8\n",
      "120\n",
      "-42\n"
     ]
    }
   ],
   "source": [
    "# Example 3: Each session has its own copy of variable\n",
    "W = tf.Variable(10)\n",
    "sess1 = tf.Session()\n",
    "sess2 = tf.Session()\n",
    "sess1.run(W.initializer)\n",
    "sess2.run(W.initializer)\n",
    "print(sess1.run(W.assign_add(10)))        \t# >> 20\n",
    "print(sess2.run(W.assign_sub(2)))        \t# >> 8\n",
    "print(sess1.run(W.assign_add(100)))        \t# >> 120\n",
    "print(sess2.run(W.assign_sub(50)))        \t# >> -42\n",
    "sess1.close()\n",
    "sess2.close()"
   ]
  },
  {
   "cell_type": "code",
   "execution_count": null,
   "metadata": {},
   "outputs": [],
   "source": []
  }
 ],
 "metadata": {
  "kernelspec": {
   "display_name": "Python 3",
   "language": "python",
   "name": "python3"
  },
  "language_info": {
   "codemirror_mode": {
    "name": "ipython",
    "version": 3
   },
   "file_extension": ".py",
   "mimetype": "text/x-python",
   "name": "python",
   "nbconvert_exporter": "python",
   "pygments_lexer": "ipython3",
   "version": "3.6.4"
  }
 },
 "nbformat": 4,
 "nbformat_minor": 2
}
